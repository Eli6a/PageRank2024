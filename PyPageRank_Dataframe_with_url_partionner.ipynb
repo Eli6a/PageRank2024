{
 "cells": [
  {
   "cell_type": "markdown",
   "metadata": {
    "colab_type": "text",
    "id": "view-in-github"
   },
   "source": [
    "<a href=\"https://colab.research.google.com/github/momo54/large_scale_data_management/blob/main/PyPageRank.ipynb\" target=\"_parent\"><img src=\"https://colab.research.google.com/assets/colab-badge.svg\" alt=\"Open In Colab\"/></a>"
   ]
  },
  {
   "cell_type": "code",
   "execution_count": null,
   "metadata": {
    "colab": {
     "base_uri": "https://localhost:8080/"
    },
    "id": "MKci2jjYYUpm",
    "outputId": "74661f0d-85a9-465f-e1cf-d1b28632a711"
   },
   "outputs": [],
   "source": [
    "!pip install pyspark\n",
    "!pip install -q findspark"
   ]
  },
  {
   "cell_type": "code",
   "execution_count": null,
   "metadata": {
    "id": "AiByIHjvYnbR"
   },
   "outputs": [],
   "source": [
    "import findspark\n",
    "findspark.init()"
   ]
  },
  {
   "cell_type": "markdown",
   "metadata": {
    "id": "zZZq80XhZFkg"
   },
   "source": [
    "# SPARK INSTALLED... lets play"
   ]
  },
  {
   "cell_type": "code",
   "execution_count": null,
   "metadata": {
    "id": "eCv2yhcUZCwo"
   },
   "outputs": [],
   "source": [
    "from pyspark.sql import SparkSession\n",
    "spark = SparkSession.builder\\\n",
    "        .master(\"local\")\\\n",
    "        .appName(\"Colab\")\\\n",
    "        .config('spark.ui.port', '4050')\\\n",
    "        .getOrCreate()"
   ]
  },
  {
   "cell_type": "code",
   "execution_count": null,
   "metadata": {
    "colab": {
     "base_uri": "https://localhost:8080/"
    },
    "id": "t7x90uIJZRMs",
    "outputId": "980f7b68-5973-4029-a029-4acda9370c8d"
   },
   "outputs": [],
   "source": [
    "# !wget -q https://storage.googleapis.com/public_lddm_data/small_page_links.nt\n",
    "# !ls"
   ]
  },
  {
   "cell_type": "code",
   "execution_count": null,
   "metadata": {},
   "outputs": [],
   "source": [
    "!pip install rdflib"
   ]
  },
  {
   "cell_type": "code",
   "execution_count": null,
   "metadata": {},
   "outputs": [],
   "source": [
    "with open(\"data/small_page_links.nt\", \"r\") as file:\n",
    "    lines = file.readlines()\n",
    "\n",
    "split_lines = [line.strip().split() for line in lines]"
   ]
  },
  {
   "cell_type": "code",
   "execution_count": null,
   "metadata": {
    "colab": {
     "base_uri": "https://localhost:8080/"
    },
    "id": "8EbX53z4Zam4",
    "outputId": "b38abbcc-8f03-4923-bbb3-196dc5e15742"
   },
   "outputs": [],
   "source": [
    "parsed_data = [(str(triple[0]), str(triple[1]), str(triple[2])) for triple in split_lines]\n",
    "df = spark.createDataFrame(parsed_data, schema='subject string, predicate string, object string')\n",
    "\n",
    "df.head(5)"
   ]
  },
  {
   "cell_type": "code",
   "execution_count": null,
   "metadata": {
    "id": "0nUu3BjdZuWH"
   },
   "outputs": [],
   "source": [
    "import re\n",
    "def computeContribs(urls, rank) :\n",
    "    \"\"\"Calculates URL contributions to the rank of other URLs.\"\"\"\n",
    "    num_urls = len(urls)\n",
    "    for url in urls:\n",
    "        yield (url, rank / num_urls)\n",
    "\n",
    "\n",
    "def parseNeighbors(urls) :\n",
    "    \"\"\"Parses a urls pair string into urls pair.\"\"\"\n",
    "    parts = re.split(r'\\s+', urls)\n",
    "    return parts[0], parts[2]"
   ]
  },
  {
   "cell_type": "code",
   "execution_count": null,
   "metadata": {
    "id": "EQ1ctRYsZ4nf"
   },
   "outputs": [],
   "source": [
    "from pyspark.sql import functions as F\n",
    "\n",
    "# Loads all URLs from input file and initialize their neighbors.\n",
    "links_df = df.select(df[0].alias(\"source\"), df[2].alias(\"neighbor\"))\n",
    "links_df = links_df.distinct()\n",
    "links_df = links_df.groupBy(\"source\").agg(F.collect_list(\"neighbor\").alias(\"neighbors\"))\n",
    "\n",
    "import time\n",
    "start_time = time.time()\n",
    "\n",
    "# Ajout du partitionnement par URL (exemple de partitionnement par 'source')\n",
    "num_partitions = 4  # Définir le nombre de partitions souhaité\n",
    "links_df = links_df.repartition(num_partitions, \"source\")\n",
    "\n",
    "links_df = links_df.cache()\n",
    "\n",
    "# Loads all URLs with other URL(s) link to from input file and initialize ranks of them to one.\n",
    "ranks_df = links_df.select(\"source\").distinct().withColumn(\"rank\", F.lit(1.0))"
   ]
  },
  {
   "cell_type": "code",
   "execution_count": null,
   "metadata": {
    "colab": {
     "base_uri": "https://localhost:8080/"
    },
    "id": "5BjLAzJpaHII",
    "outputId": "400e8288-caaa-417d-af18-a67f99fc2829"
   },
   "outputs": [],
   "source": [
    "links_df.head(5)"
   ]
  },
  {
   "cell_type": "code",
   "execution_count": null,
   "metadata": {
    "colab": {
     "base_uri": "https://localhost:8080/"
    },
    "id": "9OB1D8tDkhYs",
    "outputId": "38c6d991-6791-4536-9812-076c9c81a6c6"
   },
   "outputs": [],
   "source": [
    "links_df = links_df.withColumn(\"count\", F.size(\"neighbors\"))\n",
    "links_df = links_df.sort(F.col(\"count\").desc())\n",
    "links_df.select(\"source\", \"count\").head(10)"
   ]
  },
  {
   "cell_type": "code",
   "execution_count": null,
   "metadata": {
    "colab": {
     "base_uri": "https://localhost:8080/"
    },
    "id": "l9XLuSoVaNLg",
    "outputId": "1e1a4c09-2245-43ea-c63d-0dc674090fdd"
   },
   "outputs": [],
   "source": [
    "ranks_df.head(5)"
   ]
  },
  {
   "cell_type": "code",
   "execution_count": null,
   "metadata": {
    "colab": {
     "base_uri": "https://localhost:8080/"
    },
    "id": "LCqj5VYaiTxy",
    "outputId": "ed8608ab-3324-4a9f-991d-6dbbb1675094"
   },
   "outputs": [],
   "source": [
    "joined_df = links_df.join(ranks_df, on=\"source\", how=\"inner\")\n",
    "joined_df.head(5)"
   ]
  },
  {
   "cell_type": "code",
   "execution_count": null,
   "metadata": {
    "colab": {
     "base_uri": "https://localhost:8080/"
    },
    "id": "B3o9bwAOkQNz",
    "outputId": "4ae563ad-3362-452d-84a5-dd7dee2419f4"
   },
   "outputs": [],
   "source": [
    "contrib = [(url, contrib) for row in joined_df.collect() for url, contrib in computeContribs(row[\"neighbors\"], row[\"rank\"])]\n",
    "contrib_df = spark.createDataFrame(contrib, schema='source string, contrib float')"
   ]
  },
  {
   "cell_type": "code",
   "execution_count": null,
   "metadata": {},
   "outputs": [],
   "source": [
    "contrib_df.head(5)"
   ]
  },
  {
   "cell_type": "code",
   "execution_count": null,
   "metadata": {
    "colab": {
     "base_uri": "https://localhost:8080/"
    },
    "id": "PMUVYnQ1aQUV",
    "outputId": "4b774e0b-67b0-4c83-b4c3-9ff168b53a9f"
   },
   "outputs": [],
   "source": [
    "for iteration in range(1):\n",
    "  # Calculates URL contributions to the rank of other URLs.\n",
    "  contrib = [(url, contrib) for row in joined_df.collect() for url, contrib in computeContribs(row[\"neighbors\"], row[\"rank\"])]\n",
    "  contrib_df = spark.createDataFrame(contrib, schema='source string, contrib float')\n",
    "  \n",
    "  # Re-calculates URL ranks based on neighbor contributions.\n",
    "  ranks_df = contrib_df.groupBy(\"source\").agg(F.sum(\"contrib\").alias(\"total_contrib\"))\n",
    "  ranks_df = ranks_df.withColumn(\"rank\", ranks_df[\"total_contrib\"] * 0.85 + 0.15)\n",
    "\n",
    "  ranks_df = ranks_df.drop(\"total_contrib\")\n",
    "  \n",
    "  # Collects all URL ranks and dump them to console.\n",
    "\n",
    "end_time = time.time()  # Arrête le chronomètre\n",
    "execution_time = end_time - start_time\n",
    "\n",
    "for row in ranks_df.collect():\n",
    "    print(\"%s has rank: %s.\" % (row[\"source\"], row[\"rank\"]))\n"
   ]
  },
  {
   "cell_type": "code",
   "execution_count": null,
   "metadata": {},
   "outputs": [],
   "source": [
    "print(f\"Temps d'exécution : {execution_time} secondes\")"
   ]
  }
 ],
 "metadata": {
  "colab": {
   "authorship_tag": "ABX9TyMquPisG8ynfWsWW25+mj6n",
   "include_colab_link": true,
   "provenance": []
  },
  "kernelspec": {
   "display_name": "base",
   "language": "python",
   "name": "python3"
  },
  "language_info": {
   "codemirror_mode": {
    "name": "ipython",
    "version": 3
   },
   "file_extension": ".py",
   "mimetype": "text/x-python",
   "name": "python",
   "nbconvert_exporter": "python",
   "pygments_lexer": "ipython3",
   "version": "3.11.5"
  }
 },
 "nbformat": 4,
 "nbformat_minor": 0
}
