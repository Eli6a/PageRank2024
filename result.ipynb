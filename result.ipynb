{
 "cells": [
  {
   "cell_type": "code",
   "execution_count": 24,
   "metadata": {},
   "outputs": [
    {
     "name": "stdout",
     "output_type": "stream",
     "text": [
      "Sous-dossier 'pypagerank-2': L'URL avec le meilleur rang est : '<http://dbpedia.org/resource/Living_people>' avec un rang de 36794.33146754498\n",
      "Sous-dossier 'pypagerank_dataframe-2': L'URL avec le meilleur rang est : <http://dbpedia.org/resource/Living_people> avec un rang de 36794.331467547054\n",
      "Sous-dossier 'pypagerank_dataframe_with_url_partionner-2': L'URL avec le meilleur rang est : <http://dbpedia.org/resource/Living_people> avec un rang de 36794.33146754515\n",
      "Sous-dossier 'pypagerank_with_url_partionner-2': L'URL avec le meilleur rang est : '<http://dbpedia.org/resource/Living_people>' avec un rang de 36794.331467544725\n"
     ]
    }
   ],
   "source": [
    "import os\n",
    "\n",
    "# Chemin du dossier 'out'\n",
    "dossier_out = 'out'\n",
    "\n",
    "# Parcourir les sous-dossiers uniquement\n",
    "for sous_dossier in os.listdir(dossier_out):\n",
    "    chemin_sous_dossier = os.path.join(dossier_out, sous_dossier)\n",
    "    if os.path.isdir(chemin_sous_dossier):\n",
    "        meilleur_url = None\n",
    "        meilleur_rank = float('-inf')\n",
    "\n",
    "        # Parcourir les fichiers de chaque sous-dossier\n",
    "        for fichier in os.listdir(chemin_sous_dossier):\n",
    "            chemin_complet = os.path.join(chemin_sous_dossier, fichier)\n",
    "            if os.path.isfile(chemin_complet):\n",
    "                with open(chemin_complet, 'r') as f:\n",
    "                    contenu = f.readlines()\n",
    "                    for ligne in contenu:\n",
    "                        parts = ligne.strip().split('\\t')\n",
    "                        if len(parts) == 2:\n",
    "                            url = parts[0].strip('<>')\n",
    "                            try:\n",
    "                                rank = float(parts[1])\n",
    "                                if rank > meilleur_rank:\n",
    "                                    meilleur_rank = rank\n",
    "                                    meilleur_url = url\n",
    "                            except ValueError:\n",
    "                                print(f\"Erreur de conversion pour la ligne : {ligne.strip()}\")\n",
    "                                continue\n",
    "                        else:\n",
    "                            ligne = ligne.strip('()')\n",
    "                            url, rank = ligne.split(',')\n",
    "                            url.strip('<>')\n",
    "                            rank, tmp = rank.split(')')\n",
    "\n",
    "                            rank = float(rank)\n",
    "                            if rank > meilleur_rank:\n",
    "                                meilleur_rank = rank\n",
    "                                meilleur_url = url\n",
    "\n",
    "        if meilleur_url is not None:\n",
    "            print(f\"Sous-dossier '{sous_dossier}': L'URL avec le meilleur rang est : {meilleur_url} avec un rang de {meilleur_rank}\")\n",
    "        else:\n",
    "            print(f\"Sous-dossier '{sous_dossier}': Aucun fichier ou aucune donnée valide trouvée.\")\n"
   ]
  }
 ],
 "metadata": {
  "kernelspec": {
   "display_name": "base",
   "language": "python",
   "name": "python3"
  },
  "language_info": {
   "codemirror_mode": {
    "name": "ipython",
    "version": 3
   },
   "file_extension": ".py",
   "mimetype": "text/x-python",
   "name": "python",
   "nbconvert_exporter": "python",
   "pygments_lexer": "ipython3",
   "version": "3.11.5"
  }
 },
 "nbformat": 4,
 "nbformat_minor": 2
}
