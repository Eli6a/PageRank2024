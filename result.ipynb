{
 "cells": [
  {
   "cell_type": "code",
   "execution_count": null,
   "metadata": {},
   "outputs": [
    {
     "name": "stdout",
     "output_type": "stream",
     "text": [
      "L'URL avec le meilleur rang est : <http://dbpedia.org/resource/Antisemitism> avec un rang de 1.8627913418726414\n"
     ]
    }
   ],
   "source": [
    "import os\n",
    "\n",
    "# Chemin du dossier 'out'\n",
    "dossier_out = 'out'\n",
    "meilleur_url = None\n",
    "meilleur_rank = float('-inf')\n",
    "\n",
    "# Parcourir les sous-dossiers et les fichiers\n",
    "for dossier, sous_dossiers, fichiers in os.walk(dossier_out):\n",
    "    for fichier in fichiers:\n",
    "        chemin_complet = os.path.join(dossier, fichier)\n",
    "        with open(chemin_complet, 'r') as f:\n",
    "            contenu = f.readlines()\n",
    "            for ligne in contenu:\n",
    "                # Supposer que les lignes sont sous la forme (url, rank)\n",
    "                url, rank = eval(ligne.strip())\n",
    "                if rank > meilleur_rank:\n",
    "                    meilleur_rank = rank\n",
    "                    meilleur_url = url\n",
    "\n",
    "print(f\"L'URL avec le meilleur rang est : {meilleur_url} avec un rang de {meilleur_rank}\")\n",
    "\n"
   ]
  },
  {
   "cell_type": "code",
   "execution_count": 17,
   "metadata": {},
   "outputs": [
    {
     "name": "stdout",
     "output_type": "stream",
     "text": [
      "Sous-dossier 'dataframe': L'URL avec le meilleur rang est : http://dbpedia.org/resource/Atlas_Shrugged avec un rang de 3.575690227909945\n",
      "Sous-dossier 'dataframe_url': L'URL avec le meilleur rang est : http://dbpedia.org/resource/Atlas_Shrugged avec un rang de 3.575690227909945\n",
      "Sous-dossier 'rdd': L'URL avec le meilleur rang est : <http://dbpedia.org/resource/Anarcho-capitalism> avec un rang de 2.7125226257252697\n",
      "Sous-dossier 'rdd_url': L'URL avec le meilleur rang est : <http://dbpedia.org/resource/Anarcho-capitalism> avec un rang de 2.7125226257252697\n"
     ]
    }
   ],
   "source": [
    "import os\n",
    "\n",
    "# Chemin du dossier 'out'\n",
    "dossier_out = 'out'\n",
    "\n",
    "# Parcourir les sous-dossiers uniquement\n",
    "for sous_dossier in os.listdir(dossier_out):\n",
    "    chemin_sous_dossier = os.path.join(dossier_out, sous_dossier)\n",
    "    if os.path.isdir(chemin_sous_dossier):\n",
    "        meilleur_url = None\n",
    "        meilleur_rank = float('-inf')\n",
    "\n",
    "        # Parcourir les fichiers de chaque sous-dossier\n",
    "        for fichier in os.listdir(chemin_sous_dossier):\n",
    "            chemin_complet = os.path.join(chemin_sous_dossier, fichier)\n",
    "            if os.path.isfile(chemin_complet):\n",
    "                with open(chemin_complet, 'r') as f:\n",
    "                    contenu = f.readlines()\n",
    "                    for ligne in contenu:\n",
    "                        # Supprimer les espaces et découper la ligne par tabulation\n",
    "                        parts = ligne.strip().split('\\t')\n",
    "                        if len(parts) == 2:\n",
    "                            url = parts[0].strip('<>')\n",
    "                            try:\n",
    "                                rank = float(parts[1])\n",
    "                                if rank > meilleur_rank:\n",
    "                                    meilleur_rank = rank\n",
    "                                    meilleur_url = url\n",
    "                            except ValueError:\n",
    "                                print(f\"Erreur de conversion pour la ligne : {ligne.strip()}\")\n",
    "                                continue\n",
    "                        else:\n",
    "                            url, rank = eval(ligne.strip())\n",
    "                            if rank > meilleur_rank:\n",
    "                                meilleur_rank = rank\n",
    "                                meilleur_url = url\n",
    "\n",
    "        if meilleur_url is not None:\n",
    "            print(f\"Sous-dossier '{sous_dossier}': L'URL avec le meilleur rang est : {meilleur_url} avec un rang de {meilleur_rank}\")\n",
    "        else:\n",
    "            print(f\"Sous-dossier '{sous_dossier}': Aucun fichier ou aucune donnée valide trouvée.\")\n"
   ]
  },
  {
   "cell_type": "code",
   "execution_count": null,
   "metadata": {},
   "outputs": [],
   "source": []
  }
 ],
 "metadata": {
  "kernelspec": {
   "display_name": "base",
   "language": "python",
   "name": "python3"
  },
  "language_info": {
   "codemirror_mode": {
    "name": "ipython",
    "version": 3
   },
   "file_extension": ".py",
   "mimetype": "text/x-python",
   "name": "python",
   "nbconvert_exporter": "python",
   "pygments_lexer": "ipython3",
   "version": "3.11.5"
  }
 },
 "nbformat": 4,
 "nbformat_minor": 2
}
